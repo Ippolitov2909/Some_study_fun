{
 "cells": [
  {
   "cell_type": "code",
   "execution_count": 126,
   "metadata": {},
   "outputs": [],
   "source": [
    "class Kmeans:\n",
    "    \n",
    "    def __init__(self, parameter, num_of_clusters):\n",
    "        self.parameter = parameter\n",
    "        self.num_of_clusters = num_of_clusters\n",
    "        \n",
    "    def train(self, data, num_of_iters):\n",
    "        shape = data.shape\n",
    "        centers = np.array([np.zeros(shape[0]) for i in range (0, self.num_of_clusters)]).T\n",
    "        if self.parameter == \"random\":\n",
    "            centers = np.array([np.random.sample((shape[1], 1)) for i in range (0, self.num_of_clusters)])\n",
    "        labels = np.array([np.zeros(shape[0])]).T\n",
    "        labeled_data = np.hstack((data, labels))\n",
    "        for iter_ in range(0, num_of_iters):\n",
    "            for i in range(0, shape[0]):\n",
    "                min_dist = np.linalg.norm(data[i] - centers[0])\n",
    "                argmin = 0\n",
    "                for j in range(0, centers.shape[0]):\n",
    "                    cur_dist = np.linalg.norm(data[i] - centers[j])\n",
    "                    if cur_dist < min_dist:\n",
    "                        min_dist = cur_dist\n",
    "                        argmin = j\n",
    "                labeled_data[i][-1] = argmin\n",
    "            for j in range(0, centers.shape[0]):\n",
    "                num_of_labeled = 0\n",
    "                sum = np.array([np.zeros(shape[1])])\n",
    "                for i in range(0, shape[0]):\n",
    "                    if labeled_data[i][-1] == j:\n",
    "                        sum[0] += data[i]\n",
    "                        num_of_labeled += 1\n",
    "                sum[0] /= num_of_labeled\n",
    "                centers[j] = sum.T\n",
    "        return [labeled_data, centers]"
   ]
  },
  {
   "cell_type": "code",
   "execution_count": 127,
   "metadata": {},
   "outputs": [],
   "source": [
    "n_elems = 50\n",
    "data = np.random.sample((2, n_elems))\n",
    "for i in range(0, n_elems):\n",
    "    if data[1][i] > 0.5 and data[0][i] < 0.5:\n",
    "        data[0][i] = (1 - data[0][i])\n",
    "    elif data[1][i] < 0.5 and data[0][i] > 0.5:\n",
    "        data[0][i] = (1 - data[0][i]) - (1 - data[0][i])*(1 - data[0][i])\n",
    "data = data.transpose()"
   ]
  },
  {
   "cell_type": "code",
   "execution_count": 128,
   "metadata": {},
   "outputs": [],
   "source": [
    "kmeans = Kmeans(\"random\", 2)"
   ]
  },
  {
   "cell_type": "code",
   "execution_count": 129,
   "metadata": {},
   "outputs": [],
   "source": [
    "res_tuple = kmeans.train(data, 2)\n",
    "labeled_data = res_tuple[0]\n",
    "centers = res_tuple[1]"
   ]
  },
  {
   "cell_type": "code",
   "execution_count": 130,
   "metadata": {},
   "outputs": [
    {
     "data": {
      "image/png": "[encoded data removed]",
      "text/plain": [
       "<Figure size 432x288 with 1 Axes>"
      ]
     },
     "metadata": {
      "needs_background": "light"
     },
     "output_type": "display_data"
    }
   ],
   "source": [
    "fig, ax = plt.subplots()\n",
    "colors = [[1.0, 0.0, 0.0], [0.0, 0.0, 1.0]]\n",
    "for i in range(0, 2):\n",
    "    cluster = np.array([np.zeros(2)]).T\n",
    "    for j in range(0, data.shape[0]):\n",
    "        if labeled_data[j][-1] == i:\n",
    "            cluster = np.hstack((cluster, np.array([data[j]]).T))\n",
    "    ax.scatter(cluster[0][1:], cluster[1][1:], color = colors[i])"
   ]
  }
 ],
 "metadata": {
  "kernelspec": {
   "display_name": "Python 3",
   "language": "python",
   "name": "python3"
  },
  "language_info": {
   "codemirror_mode": {
    "name": "ipython",
    "version": 3
   },
   "file_extension": ".py",
   "mimetype": "text/x-python",
   "name": "python",
   "nbconvert_exporter": "python",
   "pygments_lexer": "ipython3",
   "version": "3.7.3"
  }
 },
 "nbformat": 4,
 "nbformat_minor": 2
}
